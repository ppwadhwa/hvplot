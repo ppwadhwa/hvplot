{
 "cells": [
  {
   "cell_type": "markdown",
   "metadata": {},
   "source": [
    "# Using `hvPlot` and `Ibis` together"
   ]
  },
  {
   "cell_type": "markdown",
   "metadata": {},
   "source": [
    "**Ibis**  \n",
    "Ibis is a productivity API for working in Python and analyzing data in remote SQL-based data stores such as OmniSciDB. Inspired by the pandas toolkit for data analysis, Ibis provides a Pythonic API that compiles to SQL, and pushes the computational burden of the query to the server. In this way, users can query extremely large databases on remote servers without heavy local computation.\n",
    "Ibis supports multiple SQL databases backends, and also supports pandas as a native backend. \n"
   ]
  },
  {
   "cell_type": "markdown",
   "metadata": {},
   "source": [
    "hvPlot can now take advantage of Ibis in order to display data stored on a database.  \n",
    "\n",
    "This notebook demonstrates visualizations of an OmniSci Database data using hvPlot. (# to do: add sql lite database)"
   ]
  },
  {
   "cell_type": "markdown",
   "metadata": {},
   "source": [
    "In order to test out some of the hvPlot functionality in Ibis, we'll need to connect to a Omnisci database. From there, we'll include a few ibis commands to manipulate the data in order to make some interesting plots."
   ]
  },
  {
   "cell_type": "code",
   "execution_count": null,
   "metadata": {},
   "outputs": [],
   "source": [
    "import ibis\n",
    "import holoviews as hv\n",
    "from holoviews import opts\n",
    "import numpy as np\n",
    "import hvplot.ibis\n",
    "from matplotlib import cm\n",
    "\n",
    "from ibis.backends import omniscidb as ibis_omniscidb\n",
    "\n",
    "hv.extension('bokeh')"
   ]
  },
  {
   "cell_type": "markdown",
   "metadata": {},
   "source": [
    "### 1. Establish the connection to the database"
   ]
  },
  {
   "cell_type": "code",
   "execution_count": null,
   "metadata": {},
   "outputs": [],
   "source": [
    "client = ibis_omniscidb.connect(\n",
    "    user=\"mapd\", \n",
    "    password=\"HyperInteractive\", \n",
    "    host=\"metis.mapd.com\", \n",
    "    database=\"mapd\", \n",
    "    port=443, \n",
    "    protocol='https'\n",
    ")"
   ]
  },
  {
   "cell_type": "markdown",
   "metadata": {},
   "source": [
    "### 2. Get the table\n",
    "\n",
    "We are going to look at voting information from the 2012 presidential election (Obama vs. Romney).  The following saves the table we want in a variable called `votes`.  Displaying `votes` will show the metadata that ibis stores lazily in a task graph for now."
   ]
  },
  {
   "cell_type": "code",
   "execution_count": null,
   "metadata": {},
   "outputs": [],
   "source": [
    "votes = client.table('demo_vote_clean')\n",
    "votes"
   ]
  },
  {
   "cell_type": "markdown",
   "metadata": {},
   "source": [
    "Running the `.execute()` command will actually run the commands it is building in its task graph.\n"
   ]
  },
  {
   "cell_type": "code",
   "execution_count": null,
   "metadata": {},
   "outputs": [],
   "source": [
    "votes.head().execute()"
   ]
  },
  {
   "cell_type": "markdown",
   "metadata": {},
   "source": [
    "Looking at the different columns of the table we're considering, we can decide on some plots that may be interesting.  Because this includes election information, we have 2 distinct groups (Democrats and Republicans) that will make for some interesting plots.\n",
    "\n",
    "Let's use `hvplot` to create histograms of votes for each party within each state.  In order to do this, we'll first need to convert the percentage of votes for each candidate into a concrete number of votes.  We'll use `Ibis` to do that."
   ]
  },
  {
   "cell_type": "markdown",
   "metadata": {},
   "source": [
    "### 3. Convert percentages to total votes"
   ]
  },
  {
   "cell_type": "markdown",
   "metadata": {},
   "source": [
    "The following cell creates 2 new columns (`Democrat` and `Republican`) that represents the number of votes in each category."
   ]
  },
  {
   "cell_type": "code",
   "execution_count": null,
   "metadata": {},
   "outputs": [],
   "source": [
    "votes = votes.mutate(\n",
    "        democrat=votes.Population.mul(votes.Obama),\n",
    "        republican=votes.Population.mul(votes.Romney),\n",
    "    )"
   ]
  },
  {
   "cell_type": "markdown",
   "metadata": {},
   "source": [
    "### 4. Aggregate votes by state (StateAbb)\n",
    "\n",
    "After computing our actual number of votes, we need to group the results by state for our histogram."
   ]
  },
  {
   "cell_type": "code",
   "execution_count": null,
   "metadata": {},
   "outputs": [],
   "source": [
    "voted = votes.groupby('StateAbb').aggregate(democrat=votes.democrat.sum(), republican=votes.republican.sum())"
   ]
  },
  {
   "cell_type": "markdown",
   "metadata": {},
   "source": [
    "### 5. Overlayed `hvPlot`\n",
    "\n",
    "Now, we have our data ready to create a histogram using `hvPlot`.  We can view these results by overlaying each group into one plot using the `*` operator as seen here:"
   ]
  },
  {
   "cell_type": "code",
   "execution_count": null,
   "metadata": {},
   "outputs": [],
   "source": [
    "(\n",
    "    voted.hvplot.bar('StateAbb', 'democrat')\n",
    "    * voted.hvplot.bar('StateAbb', 'republican')\n",
    ").opts(width=1000)"
   ]
  },
  {
   "cell_type": "markdown",
   "metadata": {},
   "source": [
    "### 6. Side-by-Side plot\n",
    "\n",
    "Alternatively, you can plot each histogram separately and view them side by side with the `+`, like so:"
   ]
  },
  {
   "cell_type": "code",
   "execution_count": null,
   "metadata": {},
   "outputs": [],
   "source": [
    "voted = voted.head(10)\n",
    "(\n",
    "    (voted.hvplot.bar('StateAbb', 'democrat'))\n",
    "    + voted.hvplot.bar('StateAbb', 'republican')\n",
    ")"
   ]
  },
  {
   "cell_type": "markdown",
   "metadata": {},
   "source": [
    "Because this data has coordinate information, it may be interesting to view the locations of all the data on a scatter plot, using `hvplot.scatter`.  With there is so much data, we make it easier to view the plot by setting `datashade=True` ."
   ]
  },
  {
   "cell_type": "code",
   "execution_count": null,
   "metadata": {},
   "outputs": [],
   "source": [
    "votes.hvplot.scatter(x='Longitude', y='Latitude', datashade=True)"
   ]
  },
  {
   "cell_type": "markdown",
   "metadata": {},
   "source": [
    "This plot shows us the locations of each zip code included in the database, but what will it look like if we separate Democrat and Replubican points into blue and red?  We'll need to do a little more manipulating with `Ibis` to prepare for plotting."
   ]
  },
  {
   "cell_type": "markdown",
   "metadata": {},
   "source": [
    "First, we'll create a new column called `color` which will label where the majority went to Democrats as `blue` and where the majority went to Republicans as `red`."
   ]
  },
  {
   "cell_type": "code",
   "execution_count": null,
   "metadata": {},
   "outputs": [],
   "source": [
    "votes = votes.mutate(\n",
    "        color=ibis.case()\n",
    "        .when(votes.democrat > votes.republican, 'blue')\n",
    "        .else_('red')\n",
    "        .end()\n",
    "\n",
    "    )"
   ]
  },
  {
   "cell_type": "markdown",
   "metadata": {},
   "source": [
    "Next, we'll create 2 new objects, `votesr` and `votesd` to contain just the information for Republicans and Democrats, respectively.  We'll do this by looking for the `red` or `blue` flags."
   ]
  },
  {
   "cell_type": "code",
   "execution_count": null,
   "metadata": {},
   "outputs": [],
   "source": [
    "votesr = votes[votes.color == 'red']"
   ]
  },
  {
   "cell_type": "code",
   "execution_count": null,
   "metadata": {},
   "outputs": [],
   "source": [
    "votesd = votes[votes.color == 'blue']"
   ]
  },
  {
   "cell_type": "markdown",
   "metadata": {},
   "source": [
    "Finally, we will plot each of these 2 groups, `votesr` and `votesd` in 2 separate images, using the `datashade` option.  Because\n",
    "datashader using blues as its default color map, we don't need to change the Democrat group coloring, but for the Republican group, we will specify `cmap=cm.Reds`.  "
   ]
  },
  {
   "cell_type": "code",
   "execution_count": null,
   "metadata": {},
   "outputs": [],
   "source": [
    "imr = votesr.hvplot.scatter(x='Longitude', y='Latitude', color='r', datashade=True, cmap=cm.Reds)\n",
    "imd = votesd.hvplot.scatter(x='Longitude', y='Latitude', color='r', datashade=True)"
   ]
  },
  {
   "cell_type": "markdown",
   "metadata": {},
   "source": [
    "As seen before, we use the `*` operator to plot them on top of each other."
   ]
  },
  {
   "cell_type": "code",
   "execution_count": null,
   "metadata": {},
   "outputs": [],
   "source": [
    "imr*imd"
   ]
  }
 ],
 "metadata": {
  "kernelspec": {
   "display_name": "Python 3",
   "language": "python",
   "name": "python3"
  },
  "language_info": {
   "codemirror_mode": {
    "name": "ipython",
    "version": 3
   },
   "file_extension": ".py",
   "mimetype": "text/x-python",
   "name": "python",
   "nbconvert_exporter": "python",
   "pygments_lexer": "ipython3",
   "version": "3.7.9"
  }
 },
 "nbformat": 4,
 "nbformat_minor": 4
}
